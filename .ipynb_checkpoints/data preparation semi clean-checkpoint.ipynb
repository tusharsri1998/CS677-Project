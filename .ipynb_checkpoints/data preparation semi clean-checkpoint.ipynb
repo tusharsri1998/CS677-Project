{
 "cells": [
  {
   "cell_type": "code",
   "execution_count": 36,
   "id": "83ebbeb2",
   "metadata": {},
   "outputs": [],
   "source": [
    "import pandas as pd\n",
    "import numpy as np\n",
    "import matplotlib.pyplot as plt\n",
    "import os\n",
    "pd.options.display.max_columns = None"
   ]
  },
  {
   "cell_type": "code",
   "execution_count": 37,
   "id": "b173afb7",
   "metadata": {},
   "outputs": [],
   "source": [
    "file_loc = os.getcwd()"
   ]
  },
  {
   "cell_type": "code",
   "execution_count": 59,
   "id": "8152e85f",
   "metadata": {},
   "outputs": [],
   "source": [
    "for i in ['2015','2016','2017','2018','2019']:\n",
    "    \n",
    "    data_path = os.path.join(file_loc,  'tennis_'+i+'.csv')\n",
    "    data = pd.read_csv(data_path)\n",
    "    data = data.drop(columns = ['Unnamed: 0'])\n",
    "\n",
    "    data['winner_first_serve_percent'] = data['winner_first_serves_in']/data['winner_first_serves_total']*100\n",
    "    data['loser_first_serve_percent'] = data['loser_first_serves_in']/data['loser_first_serves_total']*100\n",
    "\n",
    "    data['winner_win%_on_first_serve'] = data['winner_first_serve_points_won']/data['winner_first_serve_points_total']*100\n",
    "    data['loser_win%_on_first_serve'] = data['loser_first_serve_points_won']/data['loser_first_serve_points_total']*100\n",
    "\n",
    "    data['winner_win%_on_second_serve'] = data['winner_second_serve_points_won']/data['winner_second_serve_points_total']*100\n",
    "    data['loser_win%_on_second_serve'] = data['loser_second_serve_points_won']/data['loser_second_serve_points_total']*100\n",
    "\n",
    "    data['winner_break_points_faced'] = data['winner_break_points_return_total']\n",
    "    data['loser_break_points_faced'] = data['loser_break_points_return_total']\n",
    "\n",
    "    data['winner_service_games_won'] = data['winner_service_games_played']- data['loser_break_points_converted']\n",
    "    data['loser_service_games_won'] = data['loser_service_games_played']- data['winner_break_points_converted']\n",
    "    \n",
    "    n = round(data.shape[0]/2)\n",
    "    data1 = data[:n]\n",
    "    data2 = data[n:]\n",
    "\n",
    "    new_data1 = data1[['winner_name','winner_serve_rating','winner_return_rating','winner_aces','winner_double_faults','winner_first_serve_percent','winner_win%_on_first_serve',\n",
    "                     'winner_win%_on_second_serve','winner_break_points_faced','winner_break_points_converted','winner_tiebreaks_won',\n",
    "                     'winner_return_points_won','winner_total_points_won','winner_games_won','winner_service_points_won','winner_service_games_won',\n",
    "\n",
    "\n",
    "                     'loser_name','loser_serve_rating','loser_return_rating','loser_aces','loser_double_faults','loser_first_serve_percent','loser_win%_on_first_serve',\n",
    "                     'loser_win%_on_second_serve','loser_break_points_faced','loser_break_points_converted','loser_tiebreaks_won',\n",
    "                     'loser_return_points_won','loser_total_points_won','loser_games_won','loser_service_points_won','loser_service_games_won']]\n",
    "\n",
    "    p1 = ['p1' for i in range(data1.shape[0])]\n",
    "    new_data1.insert(loc=0, column='Player1', value=p1)\n",
    "    p2 = ['p2' for i in range(data1.shape[0])]\n",
    "    new_data1.insert(loc=17, column='Player2', value=p2)\n",
    "\n",
    "\n",
    "    new_data2 = data2[[ 'loser_name','loser_serve_rating','loser_return_rating','loser_aces','loser_double_faults','loser_first_serve_percent','loser_win%_on_first_serve',\n",
    "                         'loser_win%_on_second_serve','loser_break_points_faced','loser_break_points_converted','loser_tiebreaks_won',\n",
    "                         'loser_return_points_won','loser_total_points_won','loser_games_won','loser_service_points_won','loser_service_games_won',\n",
    "\n",
    "                      'winner_name','winner_serve_rating','winner_return_rating','winner_aces','winner_double_faults','winner_first_serve_percent','winner_win%_on_first_serve',\n",
    "                         'winner_win%_on_second_serve','winner_break_points_faced','winner_break_points_converted','winner_tiebreaks_won',\n",
    "                         'winner_return_points_won','winner_total_points_won','winner_games_won','winner_service_points_won','winner_service_games_won']]\n",
    "\n",
    "    p1_ = ['p1' for i in range(data2.shape[0])]\n",
    "    new_data2.insert(loc=0, column='Player1', value=p1_)\n",
    "    p2_ = ['p2' for i in range(data2.shape[0])]\n",
    "    new_data2.insert(loc=17, column='Player2', value=p2_)\n",
    "\n",
    "    new_data1.to_csv('tennis_winner_'+i+ '.csv', index = False)\n",
    "    new_data2.to_csv('tennis_loser_'+i+ '.csv', index = False)\n"
   ]
  },
  {
   "cell_type": "code",
   "execution_count": 28,
   "id": "3870dd84",
   "metadata": {},
   "outputs": [],
   "source": []
  },
  {
   "cell_type": "code",
   "execution_count": 58,
   "id": "6b669148",
   "metadata": {},
   "outputs": [],
   "source": []
  },
  {
   "cell_type": "code",
   "execution_count": null,
   "id": "6c23e106",
   "metadata": {},
   "outputs": [],
   "source": []
  }
 ],
 "metadata": {
  "kernelspec": {
   "display_name": "Python 3",
   "language": "python",
   "name": "python3"
  },
  "language_info": {
   "codemirror_mode": {
    "name": "ipython",
    "version": 3
   },
   "file_extension": ".py",
   "mimetype": "text/x-python",
   "name": "python",
   "nbconvert_exporter": "python",
   "pygments_lexer": "ipython3",
   "version": "3.8.8"
  }
 },
 "nbformat": 4,
 "nbformat_minor": 5
}
